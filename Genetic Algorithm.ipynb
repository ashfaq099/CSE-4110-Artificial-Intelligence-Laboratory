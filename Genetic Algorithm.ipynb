{
  "nbformat": 4,
  "nbformat_minor": 0,
  "metadata": {
    "colab": {
      "provenance": []
    },
    "kernelspec": {
      "name": "python3",
      "display_name": "Python 3"
    },
    "language_info": {
      "name": "python"
    }
  },
  "cells": [
    {
      "cell_type": "code",
      "execution_count": 1,
      "metadata": {
        "colab": {
          "base_uri": "https://localhost:8080/"
        },
        "id": "gRoaxAhFBBD9",
        "outputId": "399dd181-be74-49dd-9344-b8f4d0df2ade"
      },
      "outputs": [
        {
          "output_type": "stream",
          "name": "stdout",
          "text": [
            "Best solution: [0, 0, 0, 1] with value: 3\n"
          ]
        }
      ],
      "source": [
        "import random\n",
        "\n",
        "# Define items with their respective weights and benefits\n",
        "items = [\n",
        "    {'weight': 3, 'benefit': 4},\n",
        "    {'weight': 2, 'benefit': 1},\n",
        "    {'weight': 5, 'benefit': 2},\n",
        "    {'weight': 2, 'benefit': 3}\n",
        "]\n",
        "\n",
        "# Define constants\n",
        "capacity = 10\n",
        "population_size = 5\n",
        "generations = 6\n",
        "crossover_rate = 0.5\n",
        "\n",
        "# Fitness function to evaluate individual solutions\n",
        "def calculate_fitness(individual_solution, items, capacity):\n",
        "    weight = sum(individual_solution[i] * items[i]['weight'] for i in range(len(individual_solution)))\n",
        "    benefit = sum(individual_solution[i] * items[i]['benefit'] for i in range(len(individual_solution)))\n",
        "    return benefit if weight <= capacity else 0\n",
        "\n",
        "# Mutation function to mutate an individual solution\n",
        "def mutate_individual(individual_solution):\n",
        "    index = random.randint(0, len(individual_solution) - 1)\n",
        "    individual_solution[index] = 1 - individual_solution[index]\n",
        "\n",
        "# Selection function to select the fittest individual solutions\n",
        "def select_population(population, fitness_scores, size):\n",
        "    sorted_population = sorted(zip(fitness_scores, population), key=lambda x: x[0], reverse=True)\n",
        "    probabilities = [rank / sum(range(1, len(population) + 1)) for rank in range(1, len(population) + 1)]\n",
        "    selected = [individual for _, individual in sorted_population[:size]]\n",
        "    return selected\n",
        "\n",
        "# Crossover function to generate offspring\n",
        "def crossover_parents(parent1, parent2, rate):\n",
        "    if random.random() < rate:\n",
        "        split = random.randint(1, len(parent1) - 1)\n",
        "        return parent1[:split] + parent2[split:], parent2[:split] + parent1[split:]\n",
        "    return parent1, parent2\n",
        "\n",
        "# Genetic algorithm implementation\n",
        "def genetic_algorithm(items, capacity, pop_size, gens, crossover_rate):\n",
        "    # Initial population\n",
        "    population = [[random.randint(0, 1) for _ in range(len(items))] for _ in range(pop_size)]\n",
        "\n",
        "    for gen in range(gens):\n",
        "        fitness_scores = [calculate_fitness(individual, items, capacity) for individual in population]\n",
        "\n",
        "        if gen % 2 == 0:\n",
        "            for individual in population:\n",
        "                mutate_individual(individual)\n",
        "\n",
        "        selected_population = select_population(population, fitness_scores, pop_size)\n",
        "\n",
        "        next_gen = []\n",
        "        while len(next_gen) < pop_size:\n",
        "            parent1, parent2 = random.sample(selected_population, 2)\n",
        "            offspring1, offspring2 = crossover_parents(parent1, parent2, crossover_rate)\n",
        "            next_gen.extend([offspring1, offspring2])\n",
        "\n",
        "        population = next_gen[:pop_size]\n",
        "\n",
        "    best_solution = max(population, key=lambda x: calculate_fitness(x, items, capacity))\n",
        "    best_value = calculate_fitness(best_solution, items, capacity)\n",
        "    return best_solution, best_value\n",
        "\n",
        "best_solution, best_value = genetic_algorithm(items, capacity, population_size, generations, crossover_rate)\n",
        "print(\"Best solution:\", best_solution, \"with value:\", best_value)\n"
      ]
    }
  ]
}